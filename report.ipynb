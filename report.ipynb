{
 "cells": [
  {
   "cell_type": "code",
   "execution_count": 38,
   "metadata": {},
   "outputs": [],
   "source": [
    "%matplotlib widget"
   ]
  },
  {
   "cell_type": "code",
   "execution_count": 39,
   "metadata": {},
   "outputs": [],
   "source": [
    "import matplotlib.pyplot as plt\n",
    "import ipywidgets\n",
    "\n",
    "import datetime\n",
    "\n",
    "import CampusPop.Analysis as Analysis\n",
    "import CampusPop.TableParser as TableParser\n",
    "import CampusPop.SectionHandle as SectionHandle\n",
    "\n",
    "plt.ion();"
   ]
  },
  {
   "cell_type": "code",
   "execution_count": 40,
   "metadata": {},
   "outputs": [],
   "source": [
    "allSections : list[SectionHandle.Section] = list(TableParser.sectionsFromTableDump(\"oasisDump.txt\"));"
   ]
  },
  {
   "cell_type": "code",
   "execution_count": 41,
   "metadata": {},
   "outputs": [],
   "source": [
    "def visualizeBuildingsPop(day : SectionHandle.Day, hour: int, minute : int) -> None:\n",
    "\n",
    "\tfig = plt.figure(1, figsize=(15, 5));\n",
    "\n",
    "\tfig.clear();\n",
    "\n",
    "\n",
    "\tdt = SectionHandle.datetimeOnArbDate(hour, minute);\n",
    "\n",
    "\tfiltered = Analysis.filterIterable(allSections, Analysis.intersection([Analysis.genDayFilter(day), Analysis.genTimeFilter(dt)]));\n",
    "\tresults = Analysis.reduceDict(Analysis.accumulatePopulation, filtered, 0, lambda sec : sec.getBuilding());\n",
    "\n",
    "\tplt.bar(x=range(len(results)), height=list(results.values()), tick_label=list(results.keys()), width=0.35);\n",
    "\n",
    "\tplt.margins(x=0,y=0)\n",
    "\tplt.xlabel(\"Building\")\n",
    "\n",
    "\tplt.show();"
   ]
  },
  {
   "cell_type": "code",
   "execution_count": 42,
   "metadata": {},
   "outputs": [
    {
     "data": {
      "application/vnd.jupyter.widget-view+json": {
       "model_id": "ba62e25ca1ca42ee850f53006a6e8752",
       "version_major": 2,
       "version_minor": 0
      },
      "text/plain": [
       "interactive(children=(Dropdown(description='day', options=(('Monday', <Day.MON: 1>), ('Tuesday', <Day.TUE: 2>)…"
      ]
     },
     "metadata": {},
     "output_type": "display_data"
    }
   ],
   "source": [
    "ipywidgets.interact_manual( visualizeBuildingsPop,\n",
    "\t\t\t\t\t  day = [ (\"Monday\", SectionHandle.Day.MON),\n",
    "\t\t\t\t\t\t\t\t\t(\"Tuesday\", SectionHandle.Day.TUE),\n",
    "\t\t\t\t\t\t\t\t\t(\"Wednesday\", SectionHandle.Day.WED),\n",
    "\t\t\t\t\t\t\t\t\t(\"Thursday\", SectionHandle.Day.THU),\n",
    "\t\t\t\t\t\t\t\t\t(\"Friday\", SectionHandle.Day.FRI),\n",
    "\t\t\t\t\t\t\t\t\t(\"Saturday\", SectionHandle.Day.SAT),\n",
    "\t\t\t\t\t\t\t\t\t(\"Sunday\", SectionHandle.Day.SUN) ],\n",
    "\t\t\t\t\t  hour = (0, 23, 1),\n",
    "\t\t\t\t\t  minute = (0, 59, 5));\n",
    "\n"
   ]
  }
 ],
 "metadata": {
  "kernelspec": {
   "display_name": "Python 3",
   "language": "python",
   "name": "python3"
  },
  "language_info": {
   "codemirror_mode": {
    "name": "ipython",
    "version": 3
   },
   "file_extension": ".py",
   "mimetype": "text/x-python",
   "name": "python",
   "nbconvert_exporter": "python",
   "pygments_lexer": "ipython3",
   "version": "3.11.1"
  },
  "orig_nbformat": 4,
  "vscode": {
   "interpreter": {
    "hash": "b85c235fe83537ff910f7c3e96f0f6da5d2d89c734ad1b409e7f42424359a87b"
   }
  }
 },
 "nbformat": 4,
 "nbformat_minor": 2
}
